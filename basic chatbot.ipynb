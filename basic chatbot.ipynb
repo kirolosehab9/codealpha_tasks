{
 "cells": [
  {
   "cell_type": "code",
   "execution_count": null,
   "metadata": {},
   "outputs": [
    {
     "name": "stdout",
     "output_type": "stream",
     "text": [
      "Requirement already satisfied: nltk in c:\\users\\essam\\anaconda3\\lib\\site-packages (3.7)\n",
      "Requirement already satisfied: spacy in c:\\users\\essam\\anaconda3\\lib\\site-packages (3.8.3)\n",
      "Requirement already satisfied: click in c:\\users\\essam\\anaconda3\\lib\\site-packages (from nltk) (8.0.4)\n",
      "Requirement already satisfied: joblib in c:\\users\\essam\\anaconda3\\lib\\site-packages (from nltk) (1.1.0)\n",
      "Requirement already satisfied: regex>=2021.8.3 in c:\\users\\essam\\anaconda3\\lib\\site-packages (from nltk) (2022.7.9)\n",
      "Requirement already satisfied: tqdm in c:\\users\\essam\\anaconda3\\lib\\site-packages (from nltk) (4.64.1)\n",
      "Requirement already satisfied: spacy-legacy<3.1.0,>=3.0.11 in c:\\users\\essam\\anaconda3\\lib\\site-packages (from spacy) (3.0.12)\n",
      "Requirement already satisfied: spacy-loggers<2.0.0,>=1.0.0 in c:\\users\\essam\\anaconda3\\lib\\site-packages (from spacy) (1.0.5)\n",
      "Requirement already satisfied: murmurhash<1.1.0,>=0.28.0 in c:\\users\\essam\\anaconda3\\lib\\site-packages (from spacy) (1.0.12)\n",
      "Requirement already satisfied: cymem<2.1.0,>=2.0.2 in c:\\users\\essam\\anaconda3\\lib\\site-packages (from spacy) (2.0.11)\n",
      "Requirement already satisfied: preshed<3.1.0,>=3.0.2 in c:\\users\\essam\\anaconda3\\lib\\site-packages (from spacy) (3.0.9)\n",
      "Requirement already satisfied: thinc<8.4.0,>=8.3.0 in c:\\users\\essam\\anaconda3\\lib\\site-packages (from spacy) (8.3.4)\n",
      "Requirement already satisfied: wasabi<1.2.0,>=0.9.1 in c:\\users\\essam\\anaconda3\\lib\\site-packages (from spacy) (1.1.3)\n",
      "Requirement already satisfied: srsly<3.0.0,>=2.4.3 in c:\\users\\essam\\anaconda3\\lib\\site-packages (from spacy) (2.5.1)\n",
      "Requirement already satisfied: catalogue<2.1.0,>=2.0.6 in c:\\users\\essam\\anaconda3\\lib\\site-packages (from spacy) (2.0.10)\n",
      "Requirement already satisfied: weasel<0.5.0,>=0.1.0 in c:\\users\\essam\\anaconda3\\lib\\site-packages (from spacy) (0.4.1)\n",
      "Requirement already satisfied: typer<1.0.0,>=0.3.0 in c:\\users\\essam\\anaconda3\\lib\\site-packages (from spacy) (0.15.2)\n",
      "Requirement already satisfied: numpy>=1.19.0 in c:\\users\\essam\\anaconda3\\lib\\site-packages (from spacy) (1.23.5)\n",
      "Requirement already satisfied: requests<3.0.0,>=2.13.0 in c:\\users\\essam\\anaconda3\\lib\\site-packages (from spacy) (2.28.1)\n",
      "Requirement already satisfied: pydantic!=1.8,!=1.8.1,<3.0.0,>=1.7.4 in c:\\users\\essam\\anaconda3\\lib\\site-packages (from spacy) (2.10.6)\n",
      "Requirement already satisfied: jinja2 in c:\\users\\essam\\anaconda3\\lib\\site-packages (from spacy) (2.11.3)\n",
      "Requirement already satisfied: setuptools in c:\\users\\essam\\anaconda3\\lib\\site-packages (from spacy) (63.4.1)\n",
      "Requirement already satisfied: packaging>=20.0 in c:\\users\\essam\\anaconda3\\lib\\site-packages (from spacy) (21.3)\n",
      "Requirement already satisfied: langcodes<4.0.0,>=3.2.0 in c:\\users\\essam\\anaconda3\\lib\\site-packages (from spacy) (3.5.0)\n",
      "Requirement already satisfied: language-data>=1.2 in c:\\users\\essam\\anaconda3\\lib\\site-packages (from langcodes<4.0.0,>=3.2.0->spacy) (1.3.0)\n",
      "Requirement already satisfied: pyparsing!=3.0.5,>=2.0.2 in c:\\users\\essam\\anaconda3\\lib\\site-packages (from packaging>=20.0->spacy) (3.0.9)\n",
      "Requirement already satisfied: annotated-types>=0.6.0 in c:\\users\\essam\\anaconda3\\lib\\site-packages (from pydantic!=1.8,!=1.8.1,<3.0.0,>=1.7.4->spacy) (0.7.0)\n",
      "Requirement already satisfied: pydantic-core==2.27.2 in c:\\users\\essam\\anaconda3\\lib\\site-packages (from pydantic!=1.8,!=1.8.1,<3.0.0,>=1.7.4->spacy) (2.27.2)\n",
      "Requirement already satisfied: typing-extensions>=4.12.2 in c:\\users\\essam\\anaconda3\\lib\\site-packages (from pydantic!=1.8,!=1.8.1,<3.0.0,>=1.7.4->spacy) (4.12.2)\n",
      "Requirement already satisfied: charset-normalizer<3,>=2 in c:\\users\\essam\\anaconda3\\lib\\site-packages (from requests<3.0.0,>=2.13.0->spacy) (2.0.4)\n",
      "Requirement already satisfied: idna<4,>=2.5 in c:\\users\\essam\\anaconda3\\lib\\site-packages (from requests<3.0.0,>=2.13.0->spacy) (3.3)\n",
      "Requirement already satisfied: urllib3<1.27,>=1.21.1 in c:\\users\\essam\\anaconda3\\lib\\site-packages (from requests<3.0.0,>=2.13.0->spacy) (1.26.11)\n",
      "Requirement already satisfied: certifi>=2017.4.17 in c:\\users\\essam\\anaconda3\\lib\\site-packages (from requests<3.0.0,>=2.13.0->spacy) (2022.9.14)\n",
      "Requirement already satisfied: blis<1.3.0,>=1.2.0 in c:\\users\\essam\\anaconda3\\lib\\site-packages (from thinc<8.4.0,>=8.3.0->spacy) (1.2.0)\n",
      "Requirement already satisfied: confection<1.0.0,>=0.0.1 in c:\\users\\essam\\anaconda3\\lib\\site-packages (from thinc<8.4.0,>=8.3.0->spacy) (0.1.5)\n",
      "Requirement already satisfied: colorama in c:\\users\\essam\\appdata\\roaming\\python\\python39\\site-packages (from tqdm->nltk) (0.4.6)\n",
      "Requirement already satisfied: shellingham>=1.3.0 in c:\\users\\essam\\anaconda3\\lib\\site-packages (from typer<1.0.0,>=0.3.0->spacy) (1.5.4)\n",
      "Requirement already satisfied: rich>=10.11.0 in c:\\users\\essam\\anaconda3\\lib\\site-packages (from typer<1.0.0,>=0.3.0->spacy) (13.9.4)\n",
      "Requirement already satisfied: cloudpathlib<1.0.0,>=0.7.0 in c:\\users\\essam\\anaconda3\\lib\\site-packages (from weasel<0.5.0,>=0.1.0->spacy) (0.21.0)\n",
      "Requirement already satisfied: smart-open<8.0.0,>=5.2.1 in c:\\users\\essam\\anaconda3\\lib\\site-packages (from weasel<0.5.0,>=0.1.0->spacy) (5.2.1)\n",
      "Requirement already satisfied: MarkupSafe>=0.23 in c:\\users\\essam\\anaconda3\\lib\\site-packages (from jinja2->spacy) (2.0.1)\n",
      "Requirement already satisfied: marisa-trie>=1.1.0 in c:\\users\\essam\\anaconda3\\lib\\site-packages (from language-data>=1.2->langcodes<4.0.0,>=3.2.0->spacy) (1.2.1)\n",
      "Requirement already satisfied: markdown-it-py>=2.2.0 in c:\\users\\essam\\anaconda3\\lib\\site-packages (from rich>=10.11.0->typer<1.0.0,>=0.3.0->spacy) (3.0.0)\n",
      "Requirement already satisfied: pygments<3.0.0,>=2.13.0 in c:\\users\\essam\\appdata\\roaming\\python\\python39\\site-packages (from rich>=10.11.0->typer<1.0.0,>=0.3.0->spacy) (2.14.0)\n",
      "Requirement already satisfied: mdurl~=0.1 in c:\\users\\essam\\anaconda3\\lib\\site-packages (from markdown-it-py>=2.2.0->rich>=10.11.0->typer<1.0.0,>=0.3.0->spacy) (0.1.2)\n",
      "Note: you may need to restart the kernel to use updated packages.\n"
     ]
    },
    {
     "name": "stderr",
     "output_type": "stream",
     "text": [
      "\n",
      "[notice] A new release of pip is available: 23.1.2 -> 25.0.1\n",
      "[notice] To update, run: python.exe -m pip install --upgrade pip\n"
     ]
    }
   ],
   "source": [
    "pip install nltk spacy"
   ]
  },
  {
   "cell_type": "code",
   "execution_count": null,
   "metadata": {},
   "outputs": [
    {
     "name": "stdout",
     "output_type": "stream",
     "text": [
      "Requirement already satisfied: en_core_web_sm in c:\\users\\essam\\anaconda3\\lib\\site-packages (3.8.0)\n"
     ]
    },
    {
     "name": "stderr",
     "output_type": "stream",
     "text": [
      "\n",
      "[notice] A new release of pip is available: 23.1.2 -> 25.0.1\n",
      "[notice] To update, run: python.exe -m pip install --upgrade pip\n"
     ]
    },
    {
     "name": "stdout",
     "output_type": "stream",
     "text": [
      "\u001b[38;5;3m⚠ As of spaCy v3.0, shortcuts like 'en' are deprecated. Please use the\n",
      "full pipeline package name 'en_core_web_sm' instead.\u001b[0m\n",
      "Collecting en-core-web-sm==3.8.0\n",
      "  Downloading https://github.com/explosion/spacy-models/releases/download/en_core_web_sm-3.8.0/en_core_web_sm-3.8.0-py3-none-any.whl (12.8 MB)\n",
      "                                              0.0/12.8 MB ? eta -:--:--\n",
      "                                              0.0/12.8 MB 1.3 MB/s eta 0:00:10\n",
      "                                              0.1/12.8 MB 1.3 MB/s eta 0:00:10\n",
      "                                              0.2/12.8 MB 1.6 MB/s eta 0:00:08\n",
      "     -                                        0.4/12.8 MB 2.0 MB/s eta 0:00:07\n",
      "     -                                        0.6/12.8 MB 2.4 MB/s eta 0:00:06\n",
      "     --                                       0.8/12.8 MB 2.7 MB/s eta 0:00:05\n",
      "     --                                       0.9/12.8 MB 2.8 MB/s eta 0:00:05\n",
      "     ---                                      1.1/12.8 MB 3.0 MB/s eta 0:00:04\n",
      "     ----                                     1.3/12.8 MB 3.1 MB/s eta 0:00:04\n",
      "     ----                                     1.5/12.8 MB 3.2 MB/s eta 0:00:04\n",
      "     -----                                    1.7/12.8 MB 3.2 MB/s eta 0:00:04\n",
      "     -----                                    1.8/12.8 MB 3.4 MB/s eta 0:00:04\n",
      "     -----                                    1.8/12.8 MB 3.4 MB/s eta 0:00:04\n",
      "     ------                                   2.0/12.8 MB 3.0 MB/s eta 0:00:04\n",
      "     -------                                  2.4/12.8 MB 3.4 MB/s eta 0:00:04\n",
      "     --------                                 2.6/12.8 MB 3.5 MB/s eta 0:00:03\n",
      "     --------                                 2.8/12.8 MB 3.5 MB/s eta 0:00:03\n",
      "     ---------                                3.0/12.8 MB 3.5 MB/s eta 0:00:03\n",
      "     ---------                                3.1/12.8 MB 3.5 MB/s eta 0:00:03\n",
      "     ----------                               3.3/12.8 MB 3.5 MB/s eta 0:00:03\n",
      "     ----------                               3.5/12.8 MB 3.5 MB/s eta 0:00:03\n",
      "     -----------                              3.7/12.8 MB 3.6 MB/s eta 0:00:03\n",
      "     ------------                             3.9/12.8 MB 3.6 MB/s eta 0:00:03\n",
      "     ------------                             4.1/12.8 MB 3.6 MB/s eta 0:00:03\n",
      "     -------------                            4.2/12.8 MB 3.6 MB/s eta 0:00:03\n",
      "     -------------                            4.4/12.8 MB 3.6 MB/s eta 0:00:03\n",
      "     --------------                           4.6/12.8 MB 3.7 MB/s eta 0:00:03\n",
      "     --------------                           4.8/12.8 MB 3.7 MB/s eta 0:00:03\n",
      "     ---------------                          5.0/12.8 MB 3.7 MB/s eta 0:00:03\n",
      "     ----------------                         5.2/12.8 MB 3.7 MB/s eta 0:00:03\n",
      "     ----------------                         5.4/12.8 MB 3.7 MB/s eta 0:00:03\n",
      "     -----------------                        5.5/12.8 MB 3.7 MB/s eta 0:00:02\n",
      "     -----------------                        5.7/12.8 MB 3.7 MB/s eta 0:00:02\n",
      "     ------------------                       5.9/12.8 MB 3.7 MB/s eta 0:00:02\n",
      "     ------------------                       6.0/12.8 MB 3.7 MB/s eta 0:00:02\n",
      "     -------------------                      6.2/12.8 MB 3.7 MB/s eta 0:00:02\n",
      "     -------------------                      6.2/12.8 MB 3.7 MB/s eta 0:00:02\n",
      "     -------------------                      6.2/12.8 MB 3.7 MB/s eta 0:00:02\n",
      "     -------------------                      6.2/12.8 MB 3.7 MB/s eta 0:00:02\n",
      "     -------------------                      6.4/12.8 MB 3.4 MB/s eta 0:00:02\n",
      "     --------------------                     6.4/12.8 MB 3.4 MB/s eta 0:00:02\n",
      "     --------------------                     6.4/12.8 MB 3.4 MB/s eta 0:00:02\n",
      "     --------------------                     6.4/12.8 MB 3.4 MB/s eta 0:00:02\n",
      "     --------------------                     6.5/12.8 MB 3.1 MB/s eta 0:00:03\n",
      "     -----------------------                  7.5/12.8 MB 3.6 MB/s eta 0:00:02\n",
      "     -----------------------                  7.7/12.8 MB 3.6 MB/s eta 0:00:02\n",
      "     ------------------------                 7.8/12.8 MB 3.6 MB/s eta 0:00:02\n",
      "     ------------------------                 7.8/12.8 MB 3.6 MB/s eta 0:00:02\n",
      "     ------------------------                 7.8/12.8 MB 3.6 MB/s eta 0:00:02\n",
      "     ------------------------                 7.8/12.8 MB 3.4 MB/s eta 0:00:02\n",
      "     ------------------------                 7.8/12.8 MB 3.4 MB/s eta 0:00:02\n",
      "     ------------------------                 7.9/12.8 MB 3.3 MB/s eta 0:00:02\n",
      "     ---------------------------              8.7/12.8 MB 3.5 MB/s eta 0:00:02\n",
      "     ----------------------------             9.1/12.8 MB 3.6 MB/s eta 0:00:02\n",
      "     ----------------------------             9.2/12.8 MB 3.6 MB/s eta 0:00:01\n",
      "     -----------------------------            9.4/12.8 MB 3.6 MB/s eta 0:00:01\n",
      "     ------------------------------           9.6/12.8 MB 3.6 MB/s eta 0:00:01\n",
      "     ------------------------------           9.8/12.8 MB 3.6 MB/s eta 0:00:01\n",
      "     -------------------------------          9.9/12.8 MB 3.6 MB/s eta 0:00:01\n",
      "     -------------------------------          10.1/12.8 MB 3.6 MB/s eta 0:00:01\n",
      "     --------------------------------         10.3/12.8 MB 3.7 MB/s eta 0:00:01\n",
      "     --------------------------------         10.5/12.8 MB 3.7 MB/s eta 0:00:01\n",
      "     ---------------------------------        10.6/12.8 MB 3.7 MB/s eta 0:00:01\n",
      "     ---------------------------------        10.8/12.8 MB 3.7 MB/s eta 0:00:01\n",
      "     ----------------------------------       11.0/12.8 MB 3.7 MB/s eta 0:00:01\n",
      "     ----------------------------------       11.2/12.8 MB 3.7 MB/s eta 0:00:01\n",
      "     -----------------------------------      11.3/12.8 MB 3.7 MB/s eta 0:00:01\n",
      "     -----------------------------------      11.5/12.8 MB 3.7 MB/s eta 0:00:01\n",
      "     ------------------------------------     11.6/12.8 MB 3.7 MB/s eta 0:00:01\n",
      "     ------------------------------------     11.6/12.8 MB 3.7 MB/s eta 0:00:01\n",
      "     -------------------------------------    12.0/12.8 MB 3.7 MB/s eta 0:00:01\n",
      "     -------------------------------------    12.1/12.8 MB 3.8 MB/s eta 0:00:01\n",
      "     --------------------------------------   12.3/12.8 MB 3.7 MB/s eta 0:00:01\n",
      "     ---------------------------------------  12.5/12.8 MB 3.7 MB/s eta 0:00:01\n",
      "     ---------------------------------------  12.7/12.8 MB 3.7 MB/s eta 0:00:01\n",
      "     ---------------------------------------  12.8/12.8 MB 3.6 MB/s eta 0:00:01\n",
      "     ---------------------------------------  12.8/12.8 MB 3.6 MB/s eta 0:00:01\n",
      "     ---------------------------------------- 12.8/12.8 MB 3.6 MB/s eta 0:00:00\n",
      "\u001b[38;5;2m✔ Download and installation successful\u001b[0m\n",
      "You can now load the package via spacy.load('en_core_web_sm')\n"
     ]
    },
    {
     "name": "stderr",
     "output_type": "stream",
     "text": [
      "\n",
      "[notice] A new release of pip is available: 23.1.2 -> 25.0.1\n",
      "[notice] To update, run: python.exe -m pip install --upgrade pip\n"
     ]
    }
   ],
   "source": [
    "!pip3 install en_core_web_sm\n",
    "!python -m spacy download en"
   ]
  },
  {
   "cell_type": "code",
   "execution_count": null,
   "metadata": {},
   "outputs": [],
   "source": [
    "import nltk\n",
    "from nltk.tokenize import word_tokenize"
   ]
  },
  {
   "cell_type": "code",
   "execution_count": null,
   "metadata": {},
   "outputs": [
    {
     "name": "stderr",
     "output_type": "stream",
     "text": [
      "[nltk_data] Downloading package punkt to\n",
      "[nltk_data]     C:\\Users\\Essam\\AppData\\Roaming\\nltk_data...\n",
      "[nltk_data]   Package punkt is already up-to-date!\n"
     ]
    },
    {
     "data": {
      "text/plain": [
       "True"
      ]
     },
     "execution_count": 10,
     "metadata": {},
     "output_type": "execute_result"
    }
   ],
   "source": [
    "nltk.download('punkt')\n"
   ]
  },
  {
   "cell_type": "code",
   "execution_count": null,
   "metadata": {},
   "outputs": [],
   "source": [
    "import spacy\n",
    "nlp = spacy.load(\"en_core_web_sm\")\n",
    "def tokenize_text(text):\n",
    "    return word_tokenize(text.lower())\n",
    "def process_text(text):\n",
    "    doc = nlp(text.lower())\n",
    "    return [token.text for token in doc]"
   ]
  },
  {
   "cell_type": "code",
   "execution_count": null,
   "metadata": {},
   "outputs": [
    {
     "name": "stdout",
     "output_type": "stream",
     "text": [
      "i am a chatbot\n",
      "Chatbot: Hello there! How can I assist you today?\n",
      "Chatbot: I'm just a chatbot, but I'm here to help!\n",
      "Chatbot: Sure! Let me know what you need help with.\n",
      "Chatbot: Bye\n"
     ]
    }
   ],
   "source": [
    "def main():\n",
    "    print(\"i am a chatbot\")\n",
    "    while True:\n",
    "        message = input(\"You: \")\n",
    "        if message == \"bye\":\n",
    "            print(\"Chatbot: Bye\")\n",
    "            break\n",
    "        print(\"Chatbot:\", response(message))\n",
    "def response(message):\n",
    "    token=process_text(message)\n",
    "    #print(token)\n",
    "    if \"hello\" in token or \"hi\" in token:\n",
    "        return \"Hello there! How can I assist you today?\"\n",
    "    elif \"how\" in token and \"you\" in token:\n",
    "        return \"I'm just a chatbot, but I'm here to help!\"\n",
    "    elif \"bye\" in token:\n",
    "        return \"Goodbye! Have a great day!\"\n",
    "    elif \"help\" in token:\n",
    "        return \"Sure! Let me know what you need help with.\"\n",
    "    else:\n",
    "        return \"I'm sorry, I didn't understand that. Can you rephrase?\"\n",
    "    \n",
    "if __name__ == \"__main__\":\n",
    "    main()"
   ]
  }
 ],
 "metadata": {
  "kernelspec": {
   "display_name": "base",
   "language": "python",
   "name": "python3"
  },
  "language_info": {
   "codemirror_mode": {
    "name": "ipython",
    "version": 3
   },
   "file_extension": ".py",
   "mimetype": "text/x-python",
   "name": "python",
   "nbconvert_exporter": "python",
   "pygments_lexer": "ipython3",
   "version": "3.9.13"
  }
 },
 "nbformat": 4,
 "nbformat_minor": 2
}
